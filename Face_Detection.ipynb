{
 "cells": [
  {
   "cell_type": "markdown",
   "metadata": {},
   "source": [
    "**Lets start by importing OpenCV itself.**"
   ]
  },
  {
   "cell_type": "code",
   "execution_count": 1,
   "metadata": {},
   "outputs": [],
   "source": [
    "import cv2"
   ]
  },
  {
   "cell_type": "markdown",
   "metadata": {},
   "source": [
    "**Interpreting all the Cascade files into Objects**"
   ]
  },
  {
   "cell_type": "code",
   "execution_count": 2,
   "metadata": {},
   "outputs": [],
   "source": [
    "##Cascades that stay on the Face\n",
    "cas_face = cv2.CascadeClassifier('haarcascade_frontalcatface_extended.xml') #For Human Face Cascading\n",
    "cas_eye = cv2.CascadeClassifier('haarcascade_eye_tree_eyeglasses.xml')\n",
    "cas_smile = cv2.CascadeClassifier('haarcascade_smile.xml')\n",
    "cas_lefteye = cv2.CascadeClassifier('haarcascade_lefteye_2splits.xml')\n",
    "\n",
    "##Cascade for a Cat face\n",
    "cas_catface = cv2.CascadeClassifier('haarcascade_frontalcatface_extended.xml')\n",
    "\n",
    "##Cascades that detect a full body\n",
    "cas_upperbody = cv2.CascadeClassifier('haarcascade_upperbody.xml')\n",
    "cas_fullbody = cv2.CascadeClassifier('haarcascade_fullbody.xml')"
   ]
  },
  {
   "cell_type": "markdown",
   "metadata": {},
   "source": [
    "**Time to define the Detect function that draws detections over the given input image source**"
   ]
  },
  {
   "cell_type": "code",
   "execution_count": 4,
   "metadata": {},
   "outputs": [],
   "source": [
    "##Cascades that stay on the Face\n",
    "cas_face = cv2.CascadeClassifier('haarcascade_frontalcatface_extended.xml') #For Human Face Cascading\n",
    "cas_eye = cv2.CascadeClassifier('haarcascade_eye_tree_eyeglasses.xml')\n",
    "cas_smile = cv2.CascadeClassifier('haarcascade_smile.xml')\n",
    "cas_lefteye = cv2.CascadeClassifier('haarcascade_lefteye_2splits.xml')\n",
    "\n",
    "##Cascade for a Cat face\n",
    "cas_catface = cv2.CascadeClassifier('haarcascade_frontalcatface_extended.xml')\n",
    "\n",
    "##Cascades that detect a full body\n",
    "cas_upperbody = cv2.CascadeClassifier('haarcascade_upperbody.xml')\n",
    "cas_fullbody = cv2.CascadeClassifier('haarcascade_fullbody.xml')\n",
    "\n",
    "\n",
    "def detect(gray, frame):\n",
    "    faces = cas_face.detectMultiScale(gray, 1.3, 5)\n",
    "    for (x, y, w, h) in faces:\n",
    "        cv2.rectangle(frame, (x, y), (x+w, y+h), (0, 51, 204), 2)\n",
    "        roi_gray = gray[y:y+h, x:x+w]\n",
    "        roi_color = frame[y:y+h, x:x+w]\n",
    "        \n",
    "        eyes = cas_eye.detectMultiScale(roi_gray, 1.1, 10)\n",
    "        for (ex, ey, ew, eh) in eyes:\n",
    "            cv2.rectangle(roi_color,(ex, ey),(ex+ew, ey+eh), (255, 153, 51), 2)\n",
    "        \n",
    "        smile = cas_smile.detectMultiScale(roi_gray, 1.7, 22)\n",
    "        for (sx, sy, sw, sh) in smile:\n",
    "            cv2.rectangle(roi_color,(sx, sy),(sx+sw, sy+sh), (204, 102, 255), 2)\n",
    "        \n",
    "        lefteye = cas_lefteye.detectMultiScale(roi_gray, 1.8, 30)\n",
    "        for (lx, ly, lw, lh) in lefteye:\n",
    "            cv2.rectangle(roi_color,(lx, ly),(lx+lw, ly+lh), (255, 255, 153), 2)\n",
    "    \n",
    "    catface = cas_catface.detectMultiScale(gray, 1.3, 5)\n",
    "    for (cx, cy, cw, ch) in catface:\n",
    "        cv2.rectangle(frame, (cx, cy), (cx+cw, cy+ch), (128, 0, 0), 2)\n",
    "        \n",
    "    fullbody = cas_fullbody.detectMultiScale(gray, 1.2, 4)\n",
    "    for (fx, fy, fw, fh) in fullbody:\n",
    "        cv2.rectangle(frame, (fx, fy), (fx+fw, fy+fh), (51, 102, 204), 2)\n",
    "        \n",
    "        roi_gray1 = gray[y:fy+fh, x:fx+fw]\n",
    "        roi_color1 = frame[y:fy+fh, x:fx+fw]\n",
    "        \n",
    "        upperbody = cas_upperbody.detectMultiScale(roi_gray1, 1.4, 5)\n",
    "        for(ux, uy, uw, uh) in upperbody:\n",
    "            cv2.rectangle(roi_color1, (ux, uy), (ux+uw, uy+uh), (153, 0, 255), 2)\n",
    "    \n",
    "    return frame\n",
    "\n",
    "video_input = cv2.VideoCapture(0) #Live webcam feed from webcam 0.\n",
    "\n",
    "while True:\n",
    "    _, frame = video_input.read()\n",
    "    gray = cv2.cvtColor(frame, cv2.COLOR_BGR2GRAY)\n",
    "    canvas = detect(gray, frame)\n",
    "    cv2.imshow('Video', canvas)\n",
    "    if cv2.waitKey(1) & 0xFF == ord('q'):\n",
    "        break\n",
    "\n",
    "video_input.release()\n",
    "cv2.destroyAllWindows()\n",
    "    "
   ]
  },
  {
   "cell_type": "markdown",
   "metadata": {},
   "source": [
    "**Now we gotta define the inputs the go into the Detect funtion which would be the live camera feed (Primary webcam in this case) that shall be converted to it Gray scale be feed to the function.**"
   ]
  },
  {
   "cell_type": "code",
   "execution_count": 7,
   "metadata": {},
   "outputs": [
    {
     "ename": "error",
     "evalue": "..\\..\\..\\modules\\imgproc\\src\\color.cpp:7456: error: (-215) scn == 3 || scn == 4 in function cv::ipp_cvtColor\n",
     "output_type": "error",
     "traceback": [
      "\u001b[1;31m---------------------------------------------------------------------------\u001b[0m",
      "\u001b[1;31merror\u001b[0m                                     Traceback (most recent call last)",
      "\u001b[1;32m<ipython-input-7-fbbb815df4be>\u001b[0m in \u001b[0;36m<module>\u001b[1;34m()\u001b[0m\n\u001b[0;32m      3\u001b[0m \u001b[1;32mwhile\u001b[0m \u001b[1;32mTrue\u001b[0m\u001b[1;33m:\u001b[0m\u001b[1;33m\u001b[0m\u001b[0m\n\u001b[0;32m      4\u001b[0m     \u001b[0m_\u001b[0m\u001b[1;33m,\u001b[0m \u001b[0mframe\u001b[0m \u001b[1;33m=\u001b[0m \u001b[0mvideo_input\u001b[0m\u001b[1;33m.\u001b[0m\u001b[0mread\u001b[0m\u001b[1;33m(\u001b[0m\u001b[1;33m)\u001b[0m\u001b[1;33m\u001b[0m\u001b[0m\n\u001b[1;32m----> 5\u001b[1;33m     \u001b[0mgray\u001b[0m \u001b[1;33m=\u001b[0m \u001b[0mcv2\u001b[0m\u001b[1;33m.\u001b[0m\u001b[0mcvtColor\u001b[0m\u001b[1;33m(\u001b[0m\u001b[0mframe\u001b[0m\u001b[1;33m,\u001b[0m \u001b[0mcv2\u001b[0m\u001b[1;33m.\u001b[0m\u001b[0mCOLOR_BGR2GRAY\u001b[0m\u001b[1;33m)\u001b[0m\u001b[1;33m\u001b[0m\u001b[0m\n\u001b[0m\u001b[0;32m      6\u001b[0m     \u001b[0mcanvas\u001b[0m \u001b[1;33m=\u001b[0m \u001b[0mdetect\u001b[0m\u001b[1;33m(\u001b[0m\u001b[0mgray\u001b[0m\u001b[1;33m,\u001b[0m \u001b[0mframe\u001b[0m\u001b[1;33m)\u001b[0m\u001b[1;33m\u001b[0m\u001b[0m\n\u001b[0;32m      7\u001b[0m     \u001b[0mcv2\u001b[0m\u001b[1;33m.\u001b[0m\u001b[0mimshow\u001b[0m\u001b[1;33m(\u001b[0m\u001b[1;34m'Video'\u001b[0m\u001b[1;33m,\u001b[0m \u001b[0mcanvas\u001b[0m\u001b[1;33m)\u001b[0m\u001b[1;33m\u001b[0m\u001b[0m\n",
      "\u001b[1;31merror\u001b[0m: ..\\..\\..\\modules\\imgproc\\src\\color.cpp:7456: error: (-215) scn == 3 || scn == 4 in function cv::ipp_cvtColor\n"
     ]
    }
   ],
   "source": [
    "video_input = cv2.VideoCapture(0) #Live webcam feed from webcam 0.\n",
    "\n",
    "while True:\n",
    "    _, frame = video_input.read()\n",
    "    gray = cv2.cvtColor(frame, cv2.COLOR_BGR2GRAY)\n",
    "    canvas = detect(gray, frame)\n",
    "    cv2.imshow('Video', canvas)\n",
    "    if cv2.waitKey(1) & 0xFF == ord('q'):\n",
    "        break\n",
    "\n",
    "video_capture.release()\n",
    "cv2.destroyAllWindows()"
   ]
  },
  {
   "cell_type": "code",
   "execution_count": null,
   "metadata": {},
   "outputs": [],
   "source": []
  }
 ],
 "metadata": {
  "anaconda-cloud": {},
  "kernelspec": {
   "display_name": "Python [conda env:virtual_platform]",
   "language": "python",
   "name": "conda-env-virtual_platform-py"
  },
  "language_info": {
   "codemirror_mode": {
    "name": "ipython",
    "version": 3
   },
   "file_extension": ".py",
   "mimetype": "text/x-python",
   "name": "python",
   "nbconvert_exporter": "python",
   "pygments_lexer": "ipython3",
   "version": "3.5.4"
  }
 },
 "nbformat": 4,
 "nbformat_minor": 2
}
